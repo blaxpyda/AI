{
 "cells": [
  {
   "cell_type": "code",
   "execution_count": 14,
   "id": "3dc2e7bb",
   "metadata": {},
   "outputs": [
    {
     "data": {
      "text/html": [
       "<div>\n",
       "<style scoped>\n",
       "    .dataframe tbody tr th:only-of-type {\n",
       "        vertical-align: middle;\n",
       "    }\n",
       "\n",
       "    .dataframe tbody tr th {\n",
       "        vertical-align: top;\n",
       "    }\n",
       "\n",
       "    .dataframe thead th {\n",
       "        text-align: right;\n",
       "    }\n",
       "</style>\n",
       "<table border=\"1\" class=\"dataframe\">\n",
       "  <thead>\n",
       "    <tr style=\"text-align: right;\">\n",
       "      <th></th>\n",
       "      <th>Student ID</th>\n",
       "      <th>First Name</th>\n",
       "      <th>Last Name</th>\n",
       "      <th>Age</th>\n",
       "      <th>Grade</th>\n",
       "      <th>Course</th>\n",
       "    </tr>\n",
       "  </thead>\n",
       "  <tbody>\n",
       "    <tr>\n",
       "      <th>3</th>\n",
       "      <td>STD004</td>\n",
       "      <td>Sarah</td>\n",
       "      <td>Brown</td>\n",
       "      <td>20</td>\n",
       "      <td>A</td>\n",
       "      <td>Psychology</td>\n",
       "    </tr>\n",
       "    <tr>\n",
       "      <th>4</th>\n",
       "      <td>STD005</td>\n",
       "      <td>David</td>\n",
       "      <td>Miller</td>\n",
       "      <td>22</td>\n",
       "      <td>B</td>\n",
       "      <td>Mathematics</td>\n",
       "    </tr>\n",
       "    <tr>\n",
       "      <th>5</th>\n",
       "      <td>STD006</td>\n",
       "      <td>Jessica</td>\n",
       "      <td>Davis</td>\n",
       "      <td>19</td>\n",
       "      <td>A+</td>\n",
       "      <td>Physics</td>\n",
       "    </tr>\n",
       "    <tr>\n",
       "      <th>6</th>\n",
       "      <td>STD007</td>\n",
       "      <td>Daniel</td>\n",
       "      <td>Anderson</td>\n",
       "      <td>21</td>\n",
       "      <td>B-</td>\n",
       "      <td>Chemistry</td>\n",
       "    </tr>\n",
       "    <tr>\n",
       "      <th>7</th>\n",
       "      <td>STD008</td>\n",
       "      <td>Lisa</td>\n",
       "      <td>Wilson</td>\n",
       "      <td>20</td>\n",
       "      <td>A-</td>\n",
       "      <td>Biology</td>\n",
       "    </tr>\n",
       "  </tbody>\n",
       "</table>\n",
       "</div>"
      ],
      "text/plain": [
       "  Student ID First Name Last Name  Age Grade       Course\n",
       "3     STD004      Sarah     Brown   20     A   Psychology\n",
       "4     STD005      David    Miller   22     B  Mathematics\n",
       "5     STD006    Jessica     Davis   19    A+      Physics\n",
       "6     STD007     Daniel  Anderson   21    B-    Chemistry\n",
       "7     STD008       Lisa    Wilson   20    A-      Biology"
      ]
     },
     "execution_count": 14,
     "metadata": {},
     "output_type": "execute_result"
    }
   ],
   "source": [
    "df.iloc[3:8]"
   ]
  },
  {
   "cell_type": "code",
   "execution_count": 13,
   "id": "6be3c16e",
   "metadata": {},
   "outputs": [
    {
     "data": {
      "text/plain": [
       "Student ID                STD010\n",
       "First Name                Rachel\n",
       "Last Name               Martinez\n",
       "Age                           21\n",
       "Grade                          A\n",
       "Course        English Literature\n",
       "Name: 9, dtype: object"
      ]
     },
     "execution_count": 13,
     "metadata": {},
     "output_type": "execute_result"
    }
   ],
   "source": [
    "df.iloc[9]"
   ]
  },
  {
   "cell_type": "code",
   "execution_count": 12,
   "id": "0143d0fb",
   "metadata": {},
   "outputs": [
    {
     "data": {
      "text/html": [
       "<div>\n",
       "<style scoped>\n",
       "    .dataframe tbody tr th:only-of-type {\n",
       "        vertical-align: middle;\n",
       "    }\n",
       "\n",
       "    .dataframe tbody tr th {\n",
       "        vertical-align: top;\n",
       "    }\n",
       "\n",
       "    .dataframe thead th {\n",
       "        text-align: right;\n",
       "    }\n",
       "</style>\n",
       "<table border=\"1\" class=\"dataframe\">\n",
       "  <thead>\n",
       "    <tr style=\"text-align: right;\">\n",
       "      <th></th>\n",
       "      <th>First Name</th>\n",
       "      <th>Last Name</th>\n",
       "    </tr>\n",
       "  </thead>\n",
       "  <tbody>\n",
       "    <tr>\n",
       "      <th>0</th>\n",
       "      <td>John</td>\n",
       "      <td>Smith</td>\n",
       "    </tr>\n",
       "    <tr>\n",
       "      <th>1</th>\n",
       "      <td>Emily</td>\n",
       "      <td>Johnson</td>\n",
       "    </tr>\n",
       "    <tr>\n",
       "      <th>2</th>\n",
       "      <td>Michael</td>\n",
       "      <td>Williams</td>\n",
       "    </tr>\n",
       "    <tr>\n",
       "      <th>3</th>\n",
       "      <td>Sarah</td>\n",
       "      <td>Brown</td>\n",
       "    </tr>\n",
       "    <tr>\n",
       "      <th>4</th>\n",
       "      <td>David</td>\n",
       "      <td>Miller</td>\n",
       "    </tr>\n",
       "    <tr>\n",
       "      <th>5</th>\n",
       "      <td>Jessica</td>\n",
       "      <td>Davis</td>\n",
       "    </tr>\n",
       "    <tr>\n",
       "      <th>6</th>\n",
       "      <td>Daniel</td>\n",
       "      <td>Anderson</td>\n",
       "    </tr>\n",
       "    <tr>\n",
       "      <th>7</th>\n",
       "      <td>Lisa</td>\n",
       "      <td>Wilson</td>\n",
       "    </tr>\n",
       "    <tr>\n",
       "      <th>8</th>\n",
       "      <td>James</td>\n",
       "      <td>Taylor</td>\n",
       "    </tr>\n",
       "    <tr>\n",
       "      <th>9</th>\n",
       "      <td>Rachel</td>\n",
       "      <td>Martinez</td>\n",
       "    </tr>\n",
       "  </tbody>\n",
       "</table>\n",
       "</div>"
      ],
      "text/plain": [
       "  First Name Last Name\n",
       "0       John     Smith\n",
       "1      Emily   Johnson\n",
       "2    Michael  Williams\n",
       "3      Sarah     Brown\n",
       "4      David    Miller\n",
       "5    Jessica     Davis\n",
       "6     Daniel  Anderson\n",
       "7       Lisa    Wilson\n",
       "8      James    Taylor\n",
       "9     Rachel  Martinez"
      ]
     },
     "execution_count": 12,
     "metadata": {},
     "output_type": "execute_result"
    }
   ],
   "source": [
    "df[['First Name', 'Last Name']]"
   ]
  },
  {
   "cell_type": "code",
   "execution_count": 11,
   "id": "f704febc",
   "metadata": {},
   "outputs": [
    {
     "data": {
      "text/plain": [
       "0       John\n",
       "1      Emily\n",
       "2    Michael\n",
       "3      Sarah\n",
       "4      David\n",
       "5    Jessica\n",
       "6     Daniel\n",
       "7       Lisa\n",
       "8      James\n",
       "9     Rachel\n",
       "Name: First Name, dtype: object"
      ]
     },
     "execution_count": 11,
     "metadata": {},
     "output_type": "execute_result"
    }
   ],
   "source": [
    "df['First Name']"
   ]
  },
  {
   "cell_type": "code",
   "execution_count": 10,
   "id": "c24896b8",
   "metadata": {},
   "outputs": [
    {
     "data": {
      "text/plain": [
       "0    STD001\n",
       "1    STD002\n",
       "2    STD003\n",
       "3    STD004\n",
       "4    STD005\n",
       "5    STD006\n",
       "6    STD007\n",
       "7    STD008\n",
       "8    STD009\n",
       "9    STD010\n",
       "Name: Student ID, dtype: object"
      ]
     },
     "execution_count": 10,
     "metadata": {},
     "output_type": "execute_result"
    }
   ],
   "source": [
    "df['Student ID']"
   ]
  },
  {
   "cell_type": "code",
   "execution_count": 9,
   "id": "7755a536",
   "metadata": {},
   "outputs": [
    {
     "name": "stdout",
     "output_type": "stream",
     "text": [
      "<class 'pandas.core.frame.DataFrame'>\n",
      "RangeIndex: 10 entries, 0 to 9\n",
      "Data columns (total 6 columns):\n",
      " #   Column      Non-Null Count  Dtype \n",
      "---  ------      --------------  ----- \n",
      " 0   Student ID  10 non-null     object\n",
      " 1   First Name  10 non-null     object\n",
      " 2   Last Name   10 non-null     object\n",
      " 3   Age         10 non-null     int64 \n",
      " 4   Grade       10 non-null     object\n",
      " 5   Course      10 non-null     object\n",
      "dtypes: int64(1), object(5)\n",
      "memory usage: 612.0+ bytes\n"
     ]
    }
   ],
   "source": [
    "df.info()"
   ]
  },
  {
   "cell_type": "code",
   "execution_count": 8,
   "id": "9ca8ea53",
   "metadata": {},
   "outputs": [
    {
     "data": {
      "text/html": [
       "<div>\n",
       "<style scoped>\n",
       "    .dataframe tbody tr th:only-of-type {\n",
       "        vertical-align: middle;\n",
       "    }\n",
       "\n",
       "    .dataframe tbody tr th {\n",
       "        vertical-align: top;\n",
       "    }\n",
       "\n",
       "    .dataframe thead th {\n",
       "        text-align: right;\n",
       "    }\n",
       "</style>\n",
       "<table border=\"1\" class=\"dataframe\">\n",
       "  <thead>\n",
       "    <tr style=\"text-align: right;\">\n",
       "      <th></th>\n",
       "      <th>Student ID</th>\n",
       "      <th>First Name</th>\n",
       "      <th>Last Name</th>\n",
       "      <th>Age</th>\n",
       "      <th>Grade</th>\n",
       "      <th>Course</th>\n",
       "    </tr>\n",
       "  </thead>\n",
       "  <tbody>\n",
       "    <tr>\n",
       "      <th>8</th>\n",
       "      <td>STD009</td>\n",
       "      <td>James</td>\n",
       "      <td>Taylor</td>\n",
       "      <td>19</td>\n",
       "      <td>B+</td>\n",
       "      <td>Economics</td>\n",
       "    </tr>\n",
       "    <tr>\n",
       "      <th>9</th>\n",
       "      <td>STD010</td>\n",
       "      <td>Rachel</td>\n",
       "      <td>Martinez</td>\n",
       "      <td>21</td>\n",
       "      <td>A</td>\n",
       "      <td>English Literature</td>\n",
       "    </tr>\n",
       "  </tbody>\n",
       "</table>\n",
       "</div>"
      ],
      "text/plain": [
       "  Student ID First Name Last Name  Age Grade              Course\n",
       "8     STD009      James    Taylor   19    B+           Economics\n",
       "9     STD010     Rachel  Martinez   21     A  English Literature"
      ]
     },
     "execution_count": 8,
     "metadata": {},
     "output_type": "execute_result"
    }
   ],
   "source": [
    "df.tail(2)"
   ]
  },
  {
   "cell_type": "code",
   "execution_count": 7,
   "id": "cc5b21ec",
   "metadata": {},
   "outputs": [
    {
     "data": {
      "text/html": [
       "<div>\n",
       "<style scoped>\n",
       "    .dataframe tbody tr th:only-of-type {\n",
       "        vertical-align: middle;\n",
       "    }\n",
       "\n",
       "    .dataframe tbody tr th {\n",
       "        vertical-align: top;\n",
       "    }\n",
       "\n",
       "    .dataframe thead th {\n",
       "        text-align: right;\n",
       "    }\n",
       "</style>\n",
       "<table border=\"1\" class=\"dataframe\">\n",
       "  <thead>\n",
       "    <tr style=\"text-align: right;\">\n",
       "      <th></th>\n",
       "      <th>Student ID</th>\n",
       "      <th>First Name</th>\n",
       "      <th>Last Name</th>\n",
       "      <th>Age</th>\n",
       "      <th>Grade</th>\n",
       "      <th>Course</th>\n",
       "    </tr>\n",
       "  </thead>\n",
       "  <tbody>\n",
       "    <tr>\n",
       "      <th>0</th>\n",
       "      <td>STD001</td>\n",
       "      <td>John</td>\n",
       "      <td>Smith</td>\n",
       "      <td>20</td>\n",
       "      <td>A</td>\n",
       "      <td>Computer Science</td>\n",
       "    </tr>\n",
       "    <tr>\n",
       "      <th>1</th>\n",
       "      <td>STD002</td>\n",
       "      <td>Emily</td>\n",
       "      <td>Johnson</td>\n",
       "      <td>19</td>\n",
       "      <td>B+</td>\n",
       "      <td>Engineering</td>\n",
       "    </tr>\n",
       "    <tr>\n",
       "      <th>2</th>\n",
       "      <td>STD003</td>\n",
       "      <td>Michael</td>\n",
       "      <td>Williams</td>\n",
       "      <td>21</td>\n",
       "      <td>A-</td>\n",
       "      <td>Business Administration</td>\n",
       "    </tr>\n",
       "  </tbody>\n",
       "</table>\n",
       "</div>"
      ],
      "text/plain": [
       "  Student ID First Name Last Name  Age Grade                   Course\n",
       "0     STD001       John     Smith   20     A         Computer Science\n",
       "1     STD002      Emily   Johnson   19    B+              Engineering\n",
       "2     STD003    Michael  Williams   21    A-  Business Administration"
      ]
     },
     "execution_count": 7,
     "metadata": {},
     "output_type": "execute_result"
    }
   ],
   "source": [
    "df.head(3)"
   ]
  },
  {
   "cell_type": "code",
   "execution_count": null,
   "id": "4642e157",
   "metadata": {},
   "outputs": [],
   "source": []
  },
  {
   "cell_type": "code",
   "execution_count": 4,
   "id": "a275b90d",
   "metadata": {},
   "outputs": [
    {
     "data": {
      "text/html": [
       "<div>\n",
       "<style scoped>\n",
       "    .dataframe tbody tr th:only-of-type {\n",
       "        vertical-align: middle;\n",
       "    }\n",
       "\n",
       "    .dataframe tbody tr th {\n",
       "        vertical-align: top;\n",
       "    }\n",
       "\n",
       "    .dataframe thead th {\n",
       "        text-align: right;\n",
       "    }\n",
       "</style>\n",
       "<table border=\"1\" class=\"dataframe\">\n",
       "  <thead>\n",
       "    <tr style=\"text-align: right;\">\n",
       "      <th></th>\n",
       "      <th>Student ID</th>\n",
       "      <th>First Name</th>\n",
       "      <th>Last Name</th>\n",
       "      <th>Age</th>\n",
       "      <th>Grade</th>\n",
       "      <th>Course</th>\n",
       "    </tr>\n",
       "  </thead>\n",
       "  <tbody>\n",
       "    <tr>\n",
       "      <th>0</th>\n",
       "      <td>STD001</td>\n",
       "      <td>John</td>\n",
       "      <td>Smith</td>\n",
       "      <td>20</td>\n",
       "      <td>A</td>\n",
       "      <td>Computer Science</td>\n",
       "    </tr>\n",
       "    <tr>\n",
       "      <th>1</th>\n",
       "      <td>STD002</td>\n",
       "      <td>Emily</td>\n",
       "      <td>Johnson</td>\n",
       "      <td>19</td>\n",
       "      <td>B+</td>\n",
       "      <td>Engineering</td>\n",
       "    </tr>\n",
       "    <tr>\n",
       "      <th>2</th>\n",
       "      <td>STD003</td>\n",
       "      <td>Michael</td>\n",
       "      <td>Williams</td>\n",
       "      <td>21</td>\n",
       "      <td>A-</td>\n",
       "      <td>Business Administration</td>\n",
       "    </tr>\n",
       "    <tr>\n",
       "      <th>3</th>\n",
       "      <td>STD004</td>\n",
       "      <td>Sarah</td>\n",
       "      <td>Brown</td>\n",
       "      <td>20</td>\n",
       "      <td>A</td>\n",
       "      <td>Psychology</td>\n",
       "    </tr>\n",
       "    <tr>\n",
       "      <th>4</th>\n",
       "      <td>STD005</td>\n",
       "      <td>David</td>\n",
       "      <td>Miller</td>\n",
       "      <td>22</td>\n",
       "      <td>B</td>\n",
       "      <td>Mathematics</td>\n",
       "    </tr>\n",
       "    <tr>\n",
       "      <th>5</th>\n",
       "      <td>STD006</td>\n",
       "      <td>Jessica</td>\n",
       "      <td>Davis</td>\n",
       "      <td>19</td>\n",
       "      <td>A+</td>\n",
       "      <td>Physics</td>\n",
       "    </tr>\n",
       "    <tr>\n",
       "      <th>6</th>\n",
       "      <td>STD007</td>\n",
       "      <td>Daniel</td>\n",
       "      <td>Anderson</td>\n",
       "      <td>21</td>\n",
       "      <td>B-</td>\n",
       "      <td>Chemistry</td>\n",
       "    </tr>\n",
       "    <tr>\n",
       "      <th>7</th>\n",
       "      <td>STD008</td>\n",
       "      <td>Lisa</td>\n",
       "      <td>Wilson</td>\n",
       "      <td>20</td>\n",
       "      <td>A-</td>\n",
       "      <td>Biology</td>\n",
       "    </tr>\n",
       "    <tr>\n",
       "      <th>8</th>\n",
       "      <td>STD009</td>\n",
       "      <td>James</td>\n",
       "      <td>Taylor</td>\n",
       "      <td>19</td>\n",
       "      <td>B+</td>\n",
       "      <td>Economics</td>\n",
       "    </tr>\n",
       "    <tr>\n",
       "      <th>9</th>\n",
       "      <td>STD010</td>\n",
       "      <td>Rachel</td>\n",
       "      <td>Martinez</td>\n",
       "      <td>21</td>\n",
       "      <td>A</td>\n",
       "      <td>English Literature</td>\n",
       "    </tr>\n",
       "  </tbody>\n",
       "</table>\n",
       "</div>"
      ],
      "text/plain": [
       "  Student ID First Name Last Name  Age Grade                   Course\n",
       "0     STD001       John     Smith   20     A         Computer Science\n",
       "1     STD002      Emily   Johnson   19    B+              Engineering\n",
       "2     STD003    Michael  Williams   21    A-  Business Administration\n",
       "3     STD004      Sarah     Brown   20     A               Psychology\n",
       "4     STD005      David    Miller   22     B              Mathematics\n",
       "5     STD006    Jessica     Davis   19    A+                  Physics\n",
       "6     STD007     Daniel  Anderson   21    B-                Chemistry\n",
       "7     STD008       Lisa    Wilson   20    A-                  Biology\n",
       "8     STD009      James    Taylor   19    B+                Economics\n",
       "9     STD010     Rachel  Martinez   21     A       English Literature"
      ]
     },
     "execution_count": 4,
     "metadata": {},
     "output_type": "execute_result"
    }
   ],
   "source": [
    "df = pd.read_csv('students.csv')\n",
    "df"
   ]
  },
  {
   "cell_type": "code",
   "execution_count": 2,
   "id": "fd7afecb",
   "metadata": {},
   "outputs": [
    {
     "data": {
      "text/plain": [
       "'2.2.3'"
      ]
     },
     "execution_count": 2,
     "metadata": {},
     "output_type": "execute_result"
    }
   ],
   "source": [
    "pd.__version__\n"
   ]
  },
  {
   "cell_type": "code",
   "execution_count": 1,
   "id": "3ce71594",
   "metadata": {},
   "outputs": [],
   "source": [
    "import pandas as pd\n",
    "\n"
   ]
  }
 ],
 "metadata": {
  "kernelspec": {
   "display_name": ".AI",
   "language": "python",
   "name": "python3"
  },
  "language_info": {
   "codemirror_mode": {
    "name": "ipython",
    "version": 3
   },
   "file_extension": ".py",
   "mimetype": "text/x-python",
   "name": "python",
   "nbconvert_exporter": "python",
   "pygments_lexer": "ipython3",
   "version": "3.12.6"
  }
 },
 "nbformat": 4,
 "nbformat_minor": 5
}
